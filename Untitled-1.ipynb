{
 "cells": [
  {
   "cell_type": "code",
   "execution_count": 2,
   "metadata": {},
   "outputs": [],
   "source": [
    "import numpy as np"
   ]
  },
  {
   "cell_type": "code",
   "execution_count": 8,
   "metadata": {},
   "outputs": [],
   "source": [
    "A = np.array([[1,2,3,4],\n",
    "             [5,6,7,8],\n",
    "             [9,10,11,12],\n",
    "             [13,14,15,16],\n",
    "             [17,18,19,20],\n",
    "             [21,22,23,24],\n",
    "             [25,26,27,28],\n",
    "             [29,30,31,32]])\n",
    "\n",
    "arrs = np.split(A, 4, axis=1)\n",
    "raveled = [np.ravel(arr) for arr in arrs]\n",
    "\n",
    "A_reversed = np.concatenate(raveled)"
   ]
  },
  {
   "cell_type": "code",
   "execution_count": 4,
   "metadata": {},
   "outputs": [
    {
     "name": "stdout",
     "output_type": "stream",
     "text": [
      "[[ 1  2  3  4]\n",
      " [ 5  6  7  8]\n",
      " [ 9 10 11 12]\n",
      " [13 14 15 16]\n",
      " [17 18 19 20]\n",
      " [21 22 23 24]\n",
      " [25 26 27 28]\n",
      " [29 30 31 32]]\n"
     ]
    }
   ],
   "source": [
    "print(A)"
   ]
  },
  {
   "cell_type": "code",
   "execution_count": 9,
   "metadata": {},
   "outputs": [
    {
     "name": "stdout",
     "output_type": "stream",
     "text": [
      "[ 1  5  9 13 17 21 25 29  2  6 10 14 18 22 26 30  3  7 11 15 19 23 27 31\n",
      "  4  8 12 16 20 24 28 32]\n"
     ]
    }
   ],
   "source": [
    "print(A_reversed)"
   ]
  },
  {
   "cell_type": "code",
   "execution_count": 12,
   "metadata": {},
   "outputs": [],
   "source": [
    "def transpose(A):\n",
    "    B = np.zeros((A.shape[1], A.shape[0]), dtype=A.dtype)\n",
    "    for i in range(A.shape[0]):\n",
    "        for j in range(A.shape[1]):\n",
    "            B[j][i] = A[i][j]\n",
    "\n",
    "    return B"
   ]
  },
  {
   "cell_type": "code",
   "execution_count": 13,
   "metadata": {},
   "outputs": [
    {
     "name": "stdout",
     "output_type": "stream",
     "text": [
      "[[ 1  5  9 13 17 21 25 29]\n",
      " [ 2  6 10 14 18 22 26 30]\n",
      " [ 3  7 11 15 19 23 27 31]\n",
      " [ 4  8 12 16 20 24 28 32]]\n"
     ]
    }
   ],
   "source": [
    "A_transposed = transpose(A)\n",
    "print(A_transposed)"
   ]
  },
  {
   "cell_type": "code",
   "execution_count": 14,
   "metadata": {},
   "outputs": [
    {
     "name": "stdout",
     "output_type": "stream",
     "text": [
      "[ 1  4  9 16 25 36 49 64 81]\n"
     ]
    }
   ],
   "source": [
    "S = np.arange(1, 10)\n",
    "print(S**2)"
   ]
  },
  {
   "cell_type": "code",
   "execution_count": 8,
   "metadata": {},
   "outputs": [
    {
     "name": "stdout",
     "output_type": "stream",
     "text": [
      "(512, 50) (512, 50)\n"
     ]
    }
   ],
   "source": [
    "import pickle\n",
    "\n",
    "with open(\"C_4.pkl\", \"rb\") as f:\n",
    "    C_4 = pickle.load(f)\n",
    "\n",
    "with open(\"C_1.pkl\", \"rb\") as f:\n",
    "    C_1 = pickle.load(f)\n",
    "\n",
    "print(C_4.shape, C_1.shape)"
   ]
  },
  {
   "cell_type": "code",
   "execution_count": 9,
   "metadata": {},
   "outputs": [],
   "source": [
    "np.random.seed(0)\n",
    "omega1 = np.random.randn(256, 50)\n",
    "np.random.seed(1)\n",
    "omega2 = np.random.randn(256, 50)\n",
    "\n",
    "omega = (1/np.sqrt(50)) * np.vstack((omega1, omega2))\n",
    "\n",
    "with open(\"A_Poly_test.pkl\", \"rb\") as f:\n",
    "    A = pickle.load(f)\n",
    "    A = np.diag(A)\n",
    "\n",
    "assert(np.allclose(C_4, np.dot(A, omega)))"
   ]
  },
  {
   "cell_type": "code",
   "execution_count": 10,
   "metadata": {},
   "outputs": [],
   "source": [
    "with open(\"B_4.pkl\", \"rb\") as f:\n",
    "    B_4 = pickle.load(f)"
   ]
  },
  {
   "cell_type": "code",
   "execution_count": 11,
   "metadata": {},
   "outputs": [],
   "source": [
    "assert(np.allclose(B_4, np.dot(omega.T, C_4)))"
   ]
  },
  {
   "cell_type": "code",
   "execution_count": 5,
   "metadata": {},
   "outputs": [],
   "source": [
    "import pickle\n",
    "with open(\"A_Exp_test.pkl\", \"rb\") as f:\n",
    "        A = pickle.load(f)"
   ]
  },
  {
   "cell_type": "code",
   "execution_count": 6,
   "metadata": {},
   "outputs": [
    {
     "data": {
      "text/plain": [
       "np.float64(2.782266371015863e-09)"
      ]
     },
     "execution_count": 6,
     "metadata": {},
     "output_type": "execute_result"
    }
   ],
   "source": [
    "A[200]"
   ]
  },
  {
   "cell_type": "code",
   "execution_count": 19,
   "metadata": {},
   "outputs": [],
   "source": [
    "import scipy as sp\n",
    "import numpy as np\n",
    "import pickle\n",
    "\n",
    "def RBF(x, y, c):\n",
    "    \n",
    "    return np.exp(-(1/c**2)*np.linalg.norm(x-y)**2)\n",
    "\n",
    "n = 1024\n",
    "c = 1000\n",
    "\n",
    "dataset = sp.io.loadmat('mnist.mat')\n",
    "\n",
    "data = np.array(dataset['Z'])\n",
    "\n",
    "data = data[:n,:]\n",
    "\n",
    "A = np.zeros((n,n))\n",
    "\n",
    "for i in range(n):\n",
    "    for j in range(n):\n",
    "        A[i,j] = RBF(data[i], data[j], c)\n",
    "\n",
    "del dataset\n",
    "del data\n",
    "\n",
    "filename = 'A_MNIST_1024.pkl'\n",
    "\n",
    "with open(filename, 'wb') as f:\n",
    "    pickle.dump(A, f)\n"
   ]
  },
  {
   "cell_type": "code",
   "execution_count": 20,
   "metadata": {},
   "outputs": [
    {
     "name": "stdout",
     "output_type": "stream",
     "text": [
      "[[1.00000000e+00 7.45732879e-03 1.52209440e-03 ... 7.12298785e-03\n",
      "  4.08483068e-03 1.52038908e-03]\n",
      " [1.05157104e-03 1.00000000e+00 5.89863148e-04 ... 1.51142857e-03\n",
      "  8.74263273e-04 7.36654918e-04]\n",
      " [3.60121497e-03 5.85879106e-03 1.00000000e+00 ... 3.31032138e-03\n",
      "  6.36763595e-03 1.04780467e-02]\n",
      " ...\n",
      " [7.81064291e-03 1.43068047e-02 4.10030466e-03 ... 1.00000000e+00\n",
      "  8.79863221e-03 5.17146637e-03]\n",
      " [1.91439029e-02 1.72007722e-02 2.27501623e-02 ... 2.08492146e-02\n",
      "  1.00000000e+00 4.02362882e-02]\n",
      " [1.24631249e-02 1.23283351e-02 2.01274042e-02 ... 1.54452309e-02\n",
      "  3.65438635e-02 1.00000000e+00]]\n"
     ]
    }
   ],
   "source": [
    "print(A)"
   ]
  },
  {
   "cell_type": "code",
   "execution_count": null,
   "metadata": {},
   "outputs": [],
   "source": []
  }
 ],
 "metadata": {
  "kernelspec": {
   "display_name": "PDEExample",
   "language": "python",
   "name": "python3"
  },
  "language_info": {
   "codemirror_mode": {
    "name": "ipython",
    "version": 3
   },
   "file_extension": ".py",
   "mimetype": "text/x-python",
   "name": "python",
   "nbconvert_exporter": "python",
   "pygments_lexer": "ipython3",
   "version": "3.12.4"
  }
 },
 "nbformat": 4,
 "nbformat_minor": 2
}
